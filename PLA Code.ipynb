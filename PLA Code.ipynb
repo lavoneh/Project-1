{
 "cells": [
  {
   "cell_type": "code",
   "execution_count": 4,
   "metadata": {
    "collapsed": false
   },
   "outputs": [
   ],
   "source": [
    "\n",
    "from sklearn.preprocessing import StandardScaler\n",
    "from sklearn.linear_model import Perceptron\n",
    "from sklearn.model_selection import train_test_split\n",
    "from sklearn.metrics import accuracy_score\n",
    "import numpy as np\n",
    "import pandas as pd"
   ]
  },
  {
   "cell_type": "code",
   "execution_count": 5,
   "metadata": {
    "collapsed": false
   },
   "outputs": [
    {
     "name": "stderr",
     "output_type": "stream",
     "text": [
      "/usr/local/lib/python3.6/dist-packages/IPython/core/interactiveshell.py:3072: DtypeWarning: Columns (33) have mixed types.Specify dtype option on import or set low_memory=False.\n",
      "  interactivity=interactivity, compiler=compiler, result=result)\n"
     ]
    },
    {
     "name": "stdout",
     "output_type": "stream",
     "text": [
      "        SEVERITYCODE COLLISIONTYPE  PERSONCOUNT  VEHCOUNT  \\\n",
      "0                  2        Angles            2         2   \n",
      "1                  1     Sideswipe            2         2   \n",
      "2                  1    Parked Car            4         3   \n",
      "3                  1         Other            3         3   \n",
      "4                  2        Angles            2         2   \n",
      "...              ...           ...          ...       ...   \n",
      "194668             2       Head On            3         2   \n",
      "194669             1    Rear Ended            2         2   \n",
      "194670             2     Left Turn            3         2   \n",
      "194671             2        Cycles            2         1   \n",
      "194672             1    Rear Ended            2         2   \n",
      "\n",
      "                                   JUNCTIONTYPE   WEATHER ROADCOND  \\\n",
      "0        At Intersection (intersection related)  Overcast      Wet   \n",
      "1       Mid-Block (not related to intersection)   Raining      Wet   \n",
      "2       Mid-Block (not related to intersection)  Overcast      Dry   \n",
      "3       Mid-Block (not related to intersection)     Clear      Dry   \n",
      "4        At Intersection (intersection related)   Raining      Wet   \n",
      "...                                         ...       ...      ...   \n",
      "194668  Mid-Block (not related to intersection)     Clear      Dry   \n",
      "194669  Mid-Block (not related to intersection)   Raining      Wet   \n",
      "194670   At Intersection (intersection related)     Clear      Dry   \n",
      "194671   At Intersection (intersection related)     Clear      Dry   \n",
      "194672  Mid-Block (not related to intersection)     Clear      Wet   \n",
      "\n",
      "                      LIGHTCOND  \n",
      "0                      Daylight  \n",
      "1       Dark - Street Lights On  \n",
      "2                      Daylight  \n",
      "3                      Daylight  \n",
      "4                      Daylight  \n",
      "...                         ...  \n",
      "194668                 Daylight  \n",
      "194669                 Daylight  \n",
      "194670                 Daylight  \n",
      "194671                     Dusk  \n",
      "194672                 Daylight  \n",
      "\n",
      "[194673 rows x 8 columns]\n"
     ]
    }
   ],
   "source": [
    "df = pd.read_csv(\"Data-Collisions (1).csv\")\n",
    "\n",
    "df = df.iloc[:, [0, 15, 16, 19,22, 27, 28, 29]]\n",
    "print(df)"
   ]
  },
  {
   "cell_type": "code",
   "execution_count": 6,
   "metadata": {
    "collapsed": false
   },
   "outputs": [
    {
     "name": "stdout",
     "output_type": "stream",
     "text": [
      "SEVERITYCODE        0\n",
      "COLLISIONTYPE    4904\n",
      "PERSONCOUNT         0\n",
      "VEHCOUNT            0\n",
      "JUNCTIONTYPE     6329\n",
      "WEATHER          5081\n",
      "ROADCOND         5012\n",
      "LIGHTCOND        5170\n",
      "dtype: int64\n"
     ]
    },
    {
     "data": {
      "text/html": [
       "<div>\n",
       "<style scoped>\n",
       "    .dataframe tbody tr th:only-of-type {\n",
       "        vertical-align: middle;\n",
       "    }\n",
       "\n",
       "    .dataframe tbody tr th {\n",
       "        vertical-align: top;\n",
       "    }\n",
       "\n",
       "    .dataframe thead th {\n",
       "        text-align: right;\n",
       "    }\n",
       "</style>\n",
       "<table border=\"1\" class=\"dataframe\">\n",
       "  <thead>\n",
       "    <tr style=\"text-align: right;\">\n",
       "      <th></th>\n",
       "      <th>SEVERITYCODE</th>\n",
       "      <th>COLLISIONTYPE</th>\n",
       "      <th>PERSONCOUNT</th>\n",
       "      <th>VEHCOUNT</th>\n",
       "      <th>JUNCTIONTYPE</th>\n",
       "      <th>WEATHER</th>\n",
       "      <th>ROADCOND</th>\n",
       "      <th>LIGHTCOND</th>\n",
       "    </tr>\n",
       "  </thead>\n",
       "  <tbody>\n",
       "    <tr>\n",
       "      <th>0</th>\n",
       "      <td>2</td>\n",
       "      <td>0</td>\n",
       "      <td>2</td>\n",
       "      <td>2</td>\n",
       "      <td>1</td>\n",
       "      <td>4</td>\n",
       "      <td>8</td>\n",
       "      <td>5</td>\n",
       "    </tr>\n",
       "    <tr>\n",
       "      <th>1</th>\n",
       "      <td>1</td>\n",
       "      <td>9</td>\n",
       "      <td>2</td>\n",
       "      <td>2</td>\n",
       "      <td>4</td>\n",
       "      <td>6</td>\n",
       "      <td>8</td>\n",
       "      <td>2</td>\n",
       "    </tr>\n",
       "    <tr>\n",
       "      <th>2</th>\n",
       "      <td>1</td>\n",
       "      <td>5</td>\n",
       "      <td>4</td>\n",
       "      <td>3</td>\n",
       "      <td>4</td>\n",
       "      <td>4</td>\n",
       "      <td>0</td>\n",
       "      <td>5</td>\n",
       "    </tr>\n",
       "    <tr>\n",
       "      <th>3</th>\n",
       "      <td>1</td>\n",
       "      <td>4</td>\n",
       "      <td>3</td>\n",
       "      <td>3</td>\n",
       "      <td>4</td>\n",
       "      <td>1</td>\n",
       "      <td>0</td>\n",
       "      <td>5</td>\n",
       "    </tr>\n",
       "    <tr>\n",
       "      <th>4</th>\n",
       "      <td>2</td>\n",
       "      <td>0</td>\n",
       "      <td>2</td>\n",
       "      <td>2</td>\n",
       "      <td>1</td>\n",
       "      <td>6</td>\n",
       "      <td>8</td>\n",
       "      <td>5</td>\n",
       "    </tr>\n",
       "  </tbody>\n",
       "</table>\n",
       "</div>"
      ],
      "text/plain": [
       "   SEVERITYCODE  COLLISIONTYPE  PERSONCOUNT  VEHCOUNT  JUNCTIONTYPE  WEATHER  \\\n",
       "0             2              0            2         2             1        4   \n",
       "1             1              9            2         2             4        6   \n",
       "2             1              5            4         3             4        4   \n",
       "3             1              4            3         3             4        1   \n",
       "4             2              0            2         2             1        6   \n",
       "\n",
       "   ROADCOND  LIGHTCOND  \n",
       "0         8          5  \n",
       "1         8          2  \n",
       "2         0          5  \n",
       "3         0          5  \n",
       "4         8          5  "
      ]
     },
     "execution_count": 6,
     "metadata": {
     },
     "output_type": "execute_result"
    }
   ],
   "source": [
    "print(df.isnull().sum())\n",
    "df[\"WEATHER\"] = df[\"WEATHER\"].astype('category')\n",
    "df[\"WEATHER\"] = df[\"WEATHER\"].cat.codes\n",
    "df['COLLISIONTYPE'] = df['COLLISIONTYPE'].astype('category')\n",
    "df['COLLISIONTYPE'] = df['COLLISIONTYPE'].cat.codes\n",
    "df['JUNCTIONTYPE'] = df['JUNCTIONTYPE'].astype('category')\n",
    "df['JUNCTIONTYPE'] = df['JUNCTIONTYPE'].cat.codes\n",
    "df['ROADCOND'] = df['ROADCOND'].astype('category')\n",
    "df['ROADCOND'] = df['ROADCOND'].cat.codes\n",
    "df['LIGHTCOND'] = df['LIGHTCOND'].astype('category')\n",
    "df['LIGHTCOND'] = df['LIGHTCOND'].cat.codes\n",
    "df.head()"
   ]
  },
  {
   "cell_type": "code",
   "execution_count": 8,
   "metadata": {
    "collapsed": false
   },
   "outputs": [
   ],
   "source": [
    "X = df[['COLLISIONTYPE', 'PERSONCOUNT', 'VEHCOUNT', 'JUNCTIONTYPE', 'WEATHER', 'ROADCOND', 'LIGHTCOND']].values\n",
    "Y = df['SEVERITYCODE']\n"
   ]
  },
  {
   "cell_type": "code",
   "execution_count": 9,
   "metadata": {
    "collapsed": false
   },
   "outputs": [
   ],
   "source": [
    "from sklearn.model_selection import train_test_split\n",
    "X_trainset, X_testset, y_trainset, y_testset = train_test_split(X, Y, test_size=0.3, random_state=3)"
   ]
  },
  {
   "cell_type": "code",
   "execution_count": 10,
   "metadata": {
    "collapsed": false
   },
   "outputs": [
    {
     "data": {
      "text/plain": [
       "StandardScaler()"
      ]
     },
     "execution_count": 10,
     "metadata": {
     },
     "output_type": "execute_result"
    }
   ],
   "source": [
    "sc = StandardScaler()\n",
    "sc.fit(X_trainset)"
   ]
  },
  {
   "cell_type": "code",
   "execution_count": 11,
   "metadata": {
    "collapsed": false
   },
   "outputs": [
   ],
   "source": [
    "X_train_std = sc.transform(X_trainset)\n",
    "X_test_std = sc.transform(X_testset)"
   ]
  },
  {
   "cell_type": "code",
   "execution_count": 13,
   "metadata": {
    "collapsed": false
   },
   "outputs": [
    {
     "data": {
      "text/plain": [
       "Perceptron(eta0=0.15)"
      ]
     },
     "execution_count": 13,
     "metadata": {
     },
     "output_type": "execute_result"
    }
   ],
   "source": [
    "ppn = Perceptron(max_iter=1000, eta0=0.15, random_state=0)\n",
    "ppn.fit(X_train_std, y_trainset)"
   ]
  },
  {
   "cell_type": "code",
   "execution_count": 14,
   "metadata": {
    "collapsed": false
   },
   "outputs": [
   ],
   "source": [
    "y_pred = ppn.predict(X_test_std)"
   ]
  },
  {
   "cell_type": "code",
   "execution_count": 16,
   "metadata": {
    "collapsed": false
   },
   "outputs": [
    {
     "name": "stdout",
     "output_type": "stream",
     "text": [
      "Accuracy: 0.67\n"
     ]
    }
   ],
   "source": [
    "print('Accuracy: %.2f' % accuracy_score(y_testset, y_pred))"
   ]
  },
  {
   "cell_type": "code",
   "execution_count": 0,
   "metadata": {
    "collapsed": false
   },
   "outputs": [
   ],
   "source": [
   ]
  }
 ],
 "metadata": {
  "kernelspec": {
   "display_name": "Python 3 (system-wide)",
   "language": "python",
   "metadata": {
    "cocalc": {
     "description": "Python 3 programming language",
     "priority": 100,
     "url": "https://www.python.org/"
    }
   },
   "name": "python3"
  },
  "language_info": {
   "codemirror_mode": {
    "name": "ipython",
    "version": 3
   },
   "file_extension": ".py",
   "mimetype": "text/x-python",
   "name": "python",
   "nbconvert_exporter": "python",
   "pygments_lexer": "ipython3",
   "version": "3.6.9"
  }
 },
 "nbformat": 4,
 "nbformat_minor": 4
}