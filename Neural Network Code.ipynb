{
 "cells": [
  {
   "cell_type": "code",
   "execution_count": 2,
   "metadata": {
    "collapsed": false
   },
   "outputs": [
   ],
   "source": [
    "import pandas as pd\n",
    "import numpy as np\n",
    "import matplotlib.pyplot as plt\n",
    "import seaborn as sns\n",
    "%matplotlib inline\n",
    "from sklearn.linear_model import LogisticRegression \n",
    "from sklearn.model_selection import train_test_split  \n",
    "from sklearn.metrics import confusion_matrix, classification_report\n",
    "import sklearn\n",
    "from sklearn.neural_network import MLPClassifier\n",
    "from sklearn.neural_network import MLPRegressor\n",
    "from sklearn.metrics import mean_squared_error\n",
    "from math import sqrt\n",
    "from sklearn.metrics import r2_score"
   ]
  },
  {
   "cell_type": "code",
   "execution_count": 3,
   "metadata": {
    "collapsed": false
   },
   "outputs": [
    {
     "name": "stderr",
     "output_type": "stream",
     "text": [
      "/usr/local/lib/python3.6/dist-packages/IPython/core/interactiveshell.py:3072: DtypeWarning: Columns (33) have mixed types.Specify dtype option on import or set low_memory=False.\n",
      "  interactivity=interactivity, compiler=compiler, result=result)\n"
     ]
    },
    {
     "name": "stdout",
     "output_type": "stream",
     "text": [
      "        SEVERITYCODE COLLISIONTYPE  PERSONCOUNT  VEHCOUNT  \\\n",
      "0                  2        Angles            2         2   \n",
      "1                  1     Sideswipe            2         2   \n",
      "2                  1    Parked Car            4         3   \n",
      "3                  1         Other            3         3   \n",
      "4                  2        Angles            2         2   \n",
      "...              ...           ...          ...       ...   \n",
      "194668             2       Head On            3         2   \n",
      "194669             1    Rear Ended            2         2   \n",
      "194670             2     Left Turn            3         2   \n",
      "194671             2        Cycles            2         1   \n",
      "194672             1    Rear Ended            2         2   \n",
      "\n",
      "                                   JUNCTIONTYPE   WEATHER ROADCOND  \\\n",
      "0        At Intersection (intersection related)  Overcast      Wet   \n",
      "1       Mid-Block (not related to intersection)   Raining      Wet   \n",
      "2       Mid-Block (not related to intersection)  Overcast      Dry   \n",
      "3       Mid-Block (not related to intersection)     Clear      Dry   \n",
      "4        At Intersection (intersection related)   Raining      Wet   \n",
      "...                                         ...       ...      ...   \n",
      "194668  Mid-Block (not related to intersection)     Clear      Dry   \n",
      "194669  Mid-Block (not related to intersection)   Raining      Wet   \n",
      "194670   At Intersection (intersection related)     Clear      Dry   \n",
      "194671   At Intersection (intersection related)     Clear      Dry   \n",
      "194672  Mid-Block (not related to intersection)     Clear      Wet   \n",
      "\n",
      "                      LIGHTCOND  \n",
      "0                      Daylight  \n",
      "1       Dark - Street Lights On  \n",
      "2                      Daylight  \n",
      "3                      Daylight  \n",
      "4                      Daylight  \n",
      "...                         ...  \n",
      "194668                 Daylight  \n",
      "194669                 Daylight  \n",
      "194670                 Daylight  \n",
      "194671                     Dusk  \n",
      "194672                 Daylight  \n",
      "\n",
      "[194673 rows x 8 columns]\n"
     ]
    }
   ],
   "source": [
    "df = pd.read_csv(\"Data-Collisions (1).csv\")\n",
    "\n",
    "df = df.iloc[:, [0, 15, 16, 19,22, 27, 28, 29]]\n",
    "print(df)"
   ]
  },
  {
   "cell_type": "code",
   "execution_count": 4,
   "metadata": {
    "collapsed": false
   },
   "outputs": [
    {
     "name": "stdout",
     "output_type": "stream",
     "text": [
      "SEVERITYCODE        0\n",
      "COLLISIONTYPE    4904\n",
      "PERSONCOUNT         0\n",
      "VEHCOUNT            0\n",
      "JUNCTIONTYPE     6329\n",
      "WEATHER          5081\n",
      "ROADCOND         5012\n",
      "LIGHTCOND        5170\n",
      "dtype: int64\n"
     ]
    },
    {
     "data": {
      "text/html": [
       "<div>\n",
       "<style scoped>\n",
       "    .dataframe tbody tr th:only-of-type {\n",
       "        vertical-align: middle;\n",
       "    }\n",
       "\n",
       "    .dataframe tbody tr th {\n",
       "        vertical-align: top;\n",
       "    }\n",
       "\n",
       "    .dataframe thead th {\n",
       "        text-align: right;\n",
       "    }\n",
       "</style>\n",
       "<table border=\"1\" class=\"dataframe\">\n",
       "  <thead>\n",
       "    <tr style=\"text-align: right;\">\n",
       "      <th></th>\n",
       "      <th>SEVERITYCODE</th>\n",
       "      <th>COLLISIONTYPE</th>\n",
       "      <th>PERSONCOUNT</th>\n",
       "      <th>VEHCOUNT</th>\n",
       "      <th>JUNCTIONTYPE</th>\n",
       "      <th>WEATHER</th>\n",
       "      <th>ROADCOND</th>\n",
       "      <th>LIGHTCOND</th>\n",
       "    </tr>\n",
       "  </thead>\n",
       "  <tbody>\n",
       "    <tr>\n",
       "      <th>0</th>\n",
       "      <td>2</td>\n",
       "      <td>0</td>\n",
       "      <td>2</td>\n",
       "      <td>2</td>\n",
       "      <td>1</td>\n",
       "      <td>4</td>\n",
       "      <td>8</td>\n",
       "      <td>5</td>\n",
       "    </tr>\n",
       "    <tr>\n",
       "      <th>1</th>\n",
       "      <td>1</td>\n",
       "      <td>9</td>\n",
       "      <td>2</td>\n",
       "      <td>2</td>\n",
       "      <td>4</td>\n",
       "      <td>6</td>\n",
       "      <td>8</td>\n",
       "      <td>2</td>\n",
       "    </tr>\n",
       "    <tr>\n",
       "      <th>2</th>\n",
       "      <td>1</td>\n",
       "      <td>5</td>\n",
       "      <td>4</td>\n",
       "      <td>3</td>\n",
       "      <td>4</td>\n",
       "      <td>4</td>\n",
       "      <td>0</td>\n",
       "      <td>5</td>\n",
       "    </tr>\n",
       "    <tr>\n",
       "      <th>3</th>\n",
       "      <td>1</td>\n",
       "      <td>4</td>\n",
       "      <td>3</td>\n",
       "      <td>3</td>\n",
       "      <td>4</td>\n",
       "      <td>1</td>\n",
       "      <td>0</td>\n",
       "      <td>5</td>\n",
       "    </tr>\n",
       "    <tr>\n",
       "      <th>4</th>\n",
       "      <td>2</td>\n",
       "      <td>0</td>\n",
       "      <td>2</td>\n",
       "      <td>2</td>\n",
       "      <td>1</td>\n",
       "      <td>6</td>\n",
       "      <td>8</td>\n",
       "      <td>5</td>\n",
       "    </tr>\n",
       "  </tbody>\n",
       "</table>\n",
       "</div>"
      ],
      "text/plain": [
       "   SEVERITYCODE  COLLISIONTYPE  PERSONCOUNT  VEHCOUNT  JUNCTIONTYPE  WEATHER  \\\n",
       "0             2              0            2         2             1        4   \n",
       "1             1              9            2         2             4        6   \n",
       "2             1              5            4         3             4        4   \n",
       "3             1              4            3         3             4        1   \n",
       "4             2              0            2         2             1        6   \n",
       "\n",
       "   ROADCOND  LIGHTCOND  \n",
       "0         8          5  \n",
       "1         8          2  \n",
       "2         0          5  \n",
       "3         0          5  \n",
       "4         8          5  "
      ]
     },
     "execution_count": 4,
     "metadata": {
     },
     "output_type": "execute_result"
    }
   ],
   "source": [
    "print(df.isnull().sum())\n",
    "df[\"WEATHER\"] = df[\"WEATHER\"].astype('category')\n",
    "df[\"WEATHER\"] = df[\"WEATHER\"].cat.codes\n",
    "df['COLLISIONTYPE'] = df['COLLISIONTYPE'].astype('category')\n",
    "df['COLLISIONTYPE'] = df['COLLISIONTYPE'].cat.codes\n",
    "df['JUNCTIONTYPE'] = df['JUNCTIONTYPE'].astype('category')\n",
    "df['JUNCTIONTYPE'] = df['JUNCTIONTYPE'].cat.codes\n",
    "df['ROADCOND'] = df['ROADCOND'].astype('category')\n",
    "df['ROADCOND'] = df['ROADCOND'].cat.codes\n",
    "df['LIGHTCOND'] = df['LIGHTCOND'].astype('category')\n",
    "df['LIGHTCOND'] = df['LIGHTCOND'].cat.codes\n",
    "df.head()"
   ]
  },
  {
   "cell_type": "code",
   "execution_count": 5,
   "metadata": {
    "collapsed": false
   },
   "outputs": [
    {
     "data": {
      "text/html": [
       "<div>\n",
       "<style scoped>\n",
       "    .dataframe tbody tr th:only-of-type {\n",
       "        vertical-align: middle;\n",
       "    }\n",
       "\n",
       "    .dataframe tbody tr th {\n",
       "        vertical-align: top;\n",
       "    }\n",
       "\n",
       "    .dataframe thead th {\n",
       "        text-align: right;\n",
       "    }\n",
       "</style>\n",
       "<table border=\"1\" class=\"dataframe\">\n",
       "  <thead>\n",
       "    <tr style=\"text-align: right;\">\n",
       "      <th></th>\n",
       "      <th>count</th>\n",
       "      <th>mean</th>\n",
       "      <th>std</th>\n",
       "      <th>min</th>\n",
       "      <th>25%</th>\n",
       "      <th>50%</th>\n",
       "      <th>75%</th>\n",
       "      <th>max</th>\n",
       "    </tr>\n",
       "  </thead>\n",
       "  <tbody>\n",
       "    <tr>\n",
       "      <th>SEVERITYCODE</th>\n",
       "      <td>194673.0</td>\n",
       "      <td>1.298901</td>\n",
       "      <td>0.457778</td>\n",
       "      <td>1.000000</td>\n",
       "      <td>1.000000</td>\n",
       "      <td>1.000000</td>\n",
       "      <td>2.000000</td>\n",
       "      <td>2.0</td>\n",
       "    </tr>\n",
       "    <tr>\n",
       "      <th>COLLISIONTYPE</th>\n",
       "      <td>194673.0</td>\n",
       "      <td>0.485042</td>\n",
       "      <td>0.320098</td>\n",
       "      <td>-0.111111</td>\n",
       "      <td>0.333333</td>\n",
       "      <td>0.555556</td>\n",
       "      <td>0.777778</td>\n",
       "      <td>1.0</td>\n",
       "    </tr>\n",
       "    <tr>\n",
       "      <th>PERSONCOUNT</th>\n",
       "      <td>194673.0</td>\n",
       "      <td>0.030178</td>\n",
       "      <td>0.016616</td>\n",
       "      <td>0.000000</td>\n",
       "      <td>0.024691</td>\n",
       "      <td>0.024691</td>\n",
       "      <td>0.037037</td>\n",
       "      <td>1.0</td>\n",
       "    </tr>\n",
       "    <tr>\n",
       "      <th>VEHCOUNT</th>\n",
       "      <td>194673.0</td>\n",
       "      <td>0.160065</td>\n",
       "      <td>0.052587</td>\n",
       "      <td>0.000000</td>\n",
       "      <td>0.166667</td>\n",
       "      <td>0.166667</td>\n",
       "      <td>0.166667</td>\n",
       "      <td>1.0</td>\n",
       "    </tr>\n",
       "    <tr>\n",
       "      <th>JUNCTIONTYPE</th>\n",
       "      <td>194673.0</td>\n",
       "      <td>0.433442</td>\n",
       "      <td>0.251009</td>\n",
       "      <td>-0.166667</td>\n",
       "      <td>0.166667</td>\n",
       "      <td>0.500000</td>\n",
       "      <td>0.666667</td>\n",
       "      <td>1.0</td>\n",
       "    </tr>\n",
       "    <tr>\n",
       "      <th>WEATHER</th>\n",
       "      <td>194673.0</td>\n",
       "      <td>0.297725</td>\n",
       "      <td>0.289201</td>\n",
       "      <td>-0.100000</td>\n",
       "      <td>0.100000</td>\n",
       "      <td>0.100000</td>\n",
       "      <td>0.600000</td>\n",
       "      <td>1.0</td>\n",
       "    </tr>\n",
       "    <tr>\n",
       "      <th>ROADCOND</th>\n",
       "      <td>194673.0</td>\n",
       "      <td>0.313390</td>\n",
       "      <td>0.456083</td>\n",
       "      <td>-0.125000</td>\n",
       "      <td>0.000000</td>\n",
       "      <td>0.000000</td>\n",
       "      <td>0.875000</td>\n",
       "      <td>1.0</td>\n",
       "    </tr>\n",
       "    <tr>\n",
       "      <th>LIGHTCOND</th>\n",
       "      <td>194673.0</td>\n",
       "      <td>0.532052</td>\n",
       "      <td>0.237590</td>\n",
       "      <td>-0.125000</td>\n",
       "      <td>0.250000</td>\n",
       "      <td>0.625000</td>\n",
       "      <td>0.625000</td>\n",
       "      <td>1.0</td>\n",
       "    </tr>\n",
       "  </tbody>\n",
       "</table>\n",
       "</div>"
      ],
      "text/plain": [
       "                  count      mean       std       min       25%       50%  \\\n",
       "SEVERITYCODE   194673.0  1.298901  0.457778  1.000000  1.000000  1.000000   \n",
       "COLLISIONTYPE  194673.0  0.485042  0.320098 -0.111111  0.333333  0.555556   \n",
       "PERSONCOUNT    194673.0  0.030178  0.016616  0.000000  0.024691  0.024691   \n",
       "VEHCOUNT       194673.0  0.160065  0.052587  0.000000  0.166667  0.166667   \n",
       "JUNCTIONTYPE   194673.0  0.433442  0.251009 -0.166667  0.166667  0.500000   \n",
       "WEATHER        194673.0  0.297725  0.289201 -0.100000  0.100000  0.100000   \n",
       "ROADCOND       194673.0  0.313390  0.456083 -0.125000  0.000000  0.000000   \n",
       "LIGHTCOND      194673.0  0.532052  0.237590 -0.125000  0.250000  0.625000   \n",
       "\n",
       "                    75%  max  \n",
       "SEVERITYCODE   2.000000  2.0  \n",
       "COLLISIONTYPE  0.777778  1.0  \n",
       "PERSONCOUNT    0.037037  1.0  \n",
       "VEHCOUNT       0.166667  1.0  \n",
       "JUNCTIONTYPE   0.666667  1.0  \n",
       "WEATHER        0.600000  1.0  \n",
       "ROADCOND       0.875000  1.0  \n",
       "LIGHTCOND      0.625000  1.0  "
      ]
     },
     "execution_count": 5,
     "metadata": {
     },
     "output_type": "execute_result"
    }
   ],
   "source": [
    "target_column = ['SEVERITYCODE'] \n",
    "predictors = list(set(list(df.columns))-set(target_column))\n",
    "df[predictors] = df[predictors]/df[predictors].max()\n",
    "df.describe().transpose()"
   ]
  },
  {
   "cell_type": "code",
   "execution_count": 9,
   "metadata": {
    "collapsed": false
   },
   "outputs": [
   ],
   "source": [
    "X = df[['COLLISIONTYPE', 'PERSONCOUNT', 'VEHCOUNT', 'JUNCTIONTYPE', 'WEATHER', 'ROADCOND', 'LIGHTCOND']].values\n",
    "Y = df['SEVERITYCODE']"
   ]
  },
  {
   "cell_type": "code",
   "execution_count": 11,
   "metadata": {
    "collapsed": false
   },
   "outputs": [
   ],
   "source": [
    "from sklearn.model_selection import train_test_split\n",
    "X_trainset, X_testset, y_trainset, y_testset = train_test_split(X, Y, test_size=0.3, random_state=3)"
   ]
  },
  {
   "cell_type": "code",
   "execution_count": 12,
   "metadata": {
    "collapsed": false
   },
   "outputs": [
    {
     "name": "stderr",
     "output_type": "stream",
     "text": [
      "/usr/local/lib/python3.6/dist-packages/sklearn/utils/validation.py:73: DataConversionWarning: A column-vector y was passed when a 1d array was expected. Please change the shape of y to (n_samples, ), for example using ravel().\n",
      "  return f(**kwargs)\n"
     ]
    },
    {
     "name": "stderr",
     "output_type": "stream",
     "text": [
      "/usr/local/lib/python3.6/dist-packages/sklearn/neural_network/_multilayer_perceptron.py:587: UserWarning: Training interrupted by user.\n",
      "  warnings.warn(\"Training interrupted by user.\")\n"
     ]
    },
    {
     "name": "stdout",
     "output_type": "stream",
     "text": [
      "[[90523  4993]\n",
      " [29541 11214]]\n"
     ]
    },
    {
     "name": "stdout",
     "output_type": "stream",
     "text": [
      "              precision    recall  f1-score   support\n",
      "\n",
      "           1       0.75      0.95      0.84     95516\n",
      "           2       0.69      0.28      0.39     40755\n",
      "\n",
      "    accuracy                           0.75    136271\n",
      "   macro avg       0.72      0.61      0.62    136271\n",
      "weighted avg       0.74      0.75      0.71    136271\n",
      "\n"
     ]
    }
   ],
   "source": [
    "from sklearn.neural_network import MLPClassifier\n",
    "\n",
    "mlp = MLPClassifier(hidden_layer_sizes=(8,8,8), activation='relu', solver='adam', max_iter=500)\n",
    "mlp.fit(X_train,y_train.values.ravel())\n",
    "predict_train = mlp.predict(X_train)\n",
    "predict_test = mlp.predict(X_test)\n",
    "from sklearn.metrics import classification_report,confusion_matrix\n",
    "print(confusion_matrix(y_train,predict_train))\n",
    "print(classification_report(y_train,predict_train))"
   ]
  },
  {
   "cell_type": "code",
   "execution_count": 13,
   "metadata": {
    "collapsed": false
   },
   "outputs": [
    {
     "name": "stdout",
     "output_type": "stream",
     "text": [
      "(136271, 7)\n",
      "(58402, 7)\n"
     ]
    }
   ],
   "source": [
    "X = df[['COLLISIONTYPE', 'PERSONCOUNT', 'VEHCOUNT', 'JUNCTIONTYPE', 'WEATHER', 'ROADCOND', 'LIGHTCOND']].values\n",
    "y = df['SEVERITYCODE']\n",
    "\n",
    "X_train, X_test, y_train, y_test = train_test_split(X, y, test_size=0.30, random_state=40)\n",
    "print(X_train.shape); print(X_test.shape)"
   ]
  },
  {
   "cell_type": "code",
   "execution_count": 7,
   "metadata": {
    "collapsed": false
   },
   "outputs": [
    {
     "name": "stderr",
     "output_type": "stream",
     "text": [
      "/usr/local/lib/python3.6/dist-packages/sklearn/utils/validation.py:73: DataConversionWarning: A column-vector y was passed when a 1d array was expected. Please change the shape of y to (n_samples, ), for example using ravel().\n",
      "  return f(**kwargs)\n"
     ]
    },
    {
     "name": "stdout",
     "output_type": "stream",
     "text": [
      "[[89348  6168]\n",
      " [27315 13440]]\n"
     ]
    },
    {
     "name": "stdout",
     "output_type": "stream",
     "text": [
      "              precision    recall  f1-score   support\n",
      "\n",
      "           1       0.77      0.94      0.84     95516\n",
      "           2       0.69      0.33      0.45     40755\n",
      "\n",
      "    accuracy                           0.75    136271\n",
      "   macro avg       0.73      0.63      0.64    136271\n",
      "weighted avg       0.74      0.75      0.72    136271\n",
      "\n"
     ]
    }
   ],
   "source": [
    "from sklearn.neural_network import MLPClassifier\n",
    "\n",
    "mlp = MLPClassifier(hidden_layer_sizes=(8,8,8), activation='relu', solver='adam', max_iter=500)\n",
    "mlp.fit(X_train,y_train)\n",
    "\n",
    "predict_train = mlp.predict(X_train)\n",
    "predict_test = mlp.predict(X_test)\n",
    "from sklearn.metrics import classification_report,confusion_matrix\n",
    "print(confusion_matrix(y_train,predict_train))\n",
    "print(classification_report(y_train,predict_train))"
   ]
  },
  {
   "cell_type": "code",
   "execution_count": 8,
   "metadata": {
    "collapsed": false
   },
   "outputs": [
    {
     "name": "stdout",
     "output_type": "stream",
     "text": [
      "[[38272  2697]\n",
      " [11593  5840]]\n"
     ]
    },
    {
     "name": "stdout",
     "output_type": "stream",
     "text": [
      "              precision    recall  f1-score   support\n",
      "\n",
      "           1       0.77      0.93      0.84     40969\n",
      "           2       0.68      0.33      0.45     17433\n",
      "\n",
      "    accuracy                           0.76     58402\n",
      "   macro avg       0.73      0.63      0.65     58402\n",
      "weighted avg       0.74      0.76      0.73     58402\n",
      "\n"
     ]
    }
   ],
   "source": [
    "print(confusion_matrix(y_test,predict_test))\n",
    "print(classification_report(y_test,predict_test))"
   ]
  },
  {
   "cell_type": "code",
   "execution_count": 0,
   "metadata": {
    "collapsed": false
   },
   "outputs": [
   ],
   "source": [
   ]
  }
 ],
 "metadata": {
  "kernelspec": {
   "display_name": "Python 3 (system-wide)",
   "language": "python",
   "metadata": {
    "cocalc": {
     "description": "Python 3 programming language",
     "priority": 100,
     "url": "https://www.python.org/"
    }
   },
   "name": "python3"
  },
  "language_info": {
   "codemirror_mode": {
    "name": "ipython",
    "version": 3
   },
   "file_extension": ".py",
   "mimetype": "text/x-python",
   "name": "python",
   "nbconvert_exporter": "python",
   "pygments_lexer": "ipython3",
   "version": "3.6.9"
  }
 },
 "nbformat": 4,
 "nbformat_minor": 4
}